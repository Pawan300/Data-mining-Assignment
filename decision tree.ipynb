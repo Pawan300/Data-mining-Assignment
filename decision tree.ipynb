{
 "cells": [
  {
   "cell_type": "code",
   "execution_count": 363,
   "metadata": {},
   "outputs": [],
   "source": [
    "import pandas as pd\n",
    "import numpy as np\n",
    "from math import log\n",
    "from anytree import Node , RenderTree"
   ]
  },
  {
   "cell_type": "code",
   "execution_count": 364,
   "metadata": {},
   "outputs": [],
   "source": [
    "data=pd.read_csv(r\"C:\\Users\\pawan\\Google Drive\\decision tree\\Outlook.csv\")\n",
    "#data=pd.read_csv(\"/home/curaj/Desktop/pawan/dm/Outlook.csv\")\n",
    "#data=pd.read_csv(r\"C:\\Users\\pawan\\Desktop\\car.csv\")\n",
    "tree=[]"
   ]
  },
  {
   "cell_type": "code",
   "execution_count": 365,
   "metadata": {},
   "outputs": [],
   "source": [
    "def entropy(rows,label):\n",
    "    e=0\n",
    "    for i in label:\n",
    "        t=0\n",
    "        for j in rows:\n",
    "            if(j==i):\n",
    "                t+=1\n",
    "        p=t/float(len(rows))\n",
    "        e-=p*log(p,2)\n",
    "    return e"
   ]
  },
  {
   "cell_type": "code",
   "execution_count": 366,
   "metadata": {},
   "outputs": [],
   "source": [
    "def subtree(d,label,class_label,data):\n",
    "    l=[]\n",
    "    for i in range(len(d)):\n",
    "        if(d.iloc[i]==label):\n",
    "            l.append(data[class_label].iloc[i])\n",
    "    return(l)"
   ]
  },
  {
   "cell_type": "code",
   "execution_count": 367,
   "metadata": {},
   "outputs": [],
   "source": [
    "def gini(entropy,entropy_label,len_raw):\n",
    "        intrinsic=0\n",
    "        for i in range(len(entropy_label)):\n",
    "            intrinsic+=entropy_label[i]*len_raw[i]/sum(len_raw)\n",
    "        return(entropy-intrinsic)"
   ]
  },
  {
   "cell_type": "code",
   "execution_count": 368,
   "metadata": {},
   "outputs": [],
   "source": [
    "def d_tree(data,tree,class_label):\n",
    "    start=entropy(data[class_label],list(np.unique(data[class_label])))\n",
    "    root={}\n",
    "    for i in data.columns:\n",
    "        if(i==class_label):\n",
    "            continue\n",
    "        else:\n",
    "            entropy_label=[]\n",
    "            len_raw=[]\n",
    "            for l in np.unique(data[i]):\n",
    "                raw=subtree(data[i],l,class_label,data)\n",
    "                entropy_label.append(entropy(raw,np.unique(raw)))\n",
    "                len_raw.append(len(raw))\n",
    "            root[i]=gini(start,entropy_label,len_raw)\n",
    "    demo=[k for k in root.keys() if root[k]==max(root.values())]\n",
    "    tree.append(demo[0])\n",
    "    for j in np.unique(data[demo[0]]):\n",
    "        temp=data[data[demo[0]]==j]\n",
    "        tree.append(j)\n",
    "        leaf=np.unique(temp[class_label])\n",
    "        if(len(leaf)>1):\n",
    "            temp=temp.drop(demo[0],axis=1)\n",
    "            d_tree(temp,tree,class_label)\n",
    "        else:\n",
    "            tree.append(leaf[0])\n",
    "    return(tree)"
   ]
  },
  {
   "cell_type": "code",
   "execution_count": 369,
   "metadata": {},
   "outputs": [],
   "source": [
    "graph=d_tree(data,tree,\"Play\") # this will give you a list of nodes in decision tree "
   ]
  },
  {
   "cell_type": "code",
   "execution_count": 370,
   "metadata": {},
   "outputs": [],
   "source": [
    "# this code ois for print a tree in the tree format \n",
    "def t(root,class_label):\n",
    "        child=[\"\"]*len(root)\n",
    "        child[0]=Node(name=root[0])\n",
    "        j=0\n",
    "        k=0\n",
    "        for i in range(1,len(root)):\n",
    "                if(i==1):\n",
    "                    child[i]=Node(name=root[i],parent=child[0])\n",
    "                else:\n",
    "                    if(root[i-1] in class_label):\n",
    "                        j=j+2\n",
    "                        k=k+1\n",
    "                        #print(i-j-k,root[i])\n",
    "                        child[i]=Node(name=root[i],parent=child[i-j-k])\n",
    "                    else:\n",
    "                        #print(i-j-k,root[i])\n",
    "                        child[i]=Node(name=root[i],parent=child[i-1]) \n",
    "            \n",
    "        for pre,fill,node in RenderTree(child[0]):\n",
    "            print(pre, node.name)            \n",
    "        "
   ]
  },
  {
   "cell_type": "code",
   "execution_count": 371,
   "metadata": {},
   "outputs": [
    {
     "name": "stdout",
     "output_type": "stream",
     "text": [
      " Outlook\n",
      "├──  Overcast\n",
      "│   ├──  Yes\n",
      "│   ├──  True\n",
      "│   │   └──  No\n",
      "│   └──  Normal\n",
      "│       └──  Yes\n",
      "├──  Rainy\n",
      "│   └──  Windy\n",
      "│       └──  False\n",
      "│           └──  Yes\n",
      "└──  Sunny\n",
      "    └──  Humidity\n",
      "        └──  High\n",
      "            └──  No\n"
     ]
    }
   ],
   "source": [
    "t(['Outlook',\n",
    " 'Overcast',\n",
    " 'Yes',\n",
    " 'Rainy',\n",
    " 'Windy',\n",
    " False,\n",
    " 'Yes',\n",
    " True,\n",
    " 'No',\n",
    " 'Sunny',\n",
    " 'Humidity',\n",
    " 'High',\n",
    " 'No',\n",
    " 'Normal',\n",
    " 'Yes'],[\"Yes\",\"No\"]) "
   ]
  },
  {
   "cell_type": "code",
   "execution_count": 372,
   "metadata": {},
   "outputs": [
    {
     "data": {
      "text/plain": [
       "['Outlook',\n",
       " 'Overcast',\n",
       " 'Yes',\n",
       " 'Rainy',\n",
       " 'Windy',\n",
       " False,\n",
       " 'Yes',\n",
       " True,\n",
       " 'No',\n",
       " 'Sunny',\n",
       " 'Humidity',\n",
       " 'High',\n",
       " 'No',\n",
       " 'Normal',\n",
       " 'Yes']"
      ]
     },
     "execution_count": 372,
     "metadata": {},
     "output_type": "execute_result"
    }
   ],
   "source": [
    "graph"
   ]
  },
  {
   "cell_type": "code",
   "execution_count": 373,
   "metadata": {},
   "outputs": [],
   "source": [
    "root=graph\n",
    "root[0]=Node(root[0])\n",
    "overcast=Node(\"Overcast\",parent=root[0])\n",
    "yes1=Node(\"Yes\",parent=overcast)\n",
    "rainy=Node(\"Rainy\",parent=root[0])\n",
    "windy=Node(\"Windy\",parent=rainy)\n",
    "false=Node(\"False\",parent=windy)\n",
    "yes2=Node(\"Yes\",parent=false)\n",
    "true=Node(\"True\",parent=windy)\n",
    "no1=Node(\"No\",parent=true)\n",
    "sunny=Node(\"Sunny\",parent=root[0])\n",
    "humidity=Node(\"Humidity\",parent=sunny)\n",
    "high=Node(\"High\",parent=humidity)\n",
    "no1=Node(\"No\",parent=high)\n",
    "normal=Node(\"Normal\",parent=humidity)\n",
    "yes3=Node(\"Yes\",parent=normal)"
   ]
  },
  {
   "cell_type": "code",
   "execution_count": 374,
   "metadata": {},
   "outputs": [
    {
     "name": "stdout",
     "output_type": "stream",
     "text": [
      " Outlook\n",
      "├──  Overcast\n",
      "│   └──  Yes\n",
      "├──  Rainy\n",
      "│   └──  Windy\n",
      "│       ├──  False\n",
      "│       │   └──  Yes\n",
      "│       └──  True\n",
      "│           └──  No\n",
      "└──  Sunny\n",
      "    └──  Humidity\n",
      "        ├──  High\n",
      "        │   └──  No\n",
      "        └──  Normal\n",
      "            └──  Yes\n"
     ]
    }
   ],
   "source": [
    "for pre,fill,node in RenderTree(root[0]):\n",
    "    print(pre, node.name)"
   ]
  },
  {
   "cell_type": "code",
   "execution_count": null,
   "metadata": {},
   "outputs": [],
   "source": []
  },
  {
   "cell_type": "code",
   "execution_count": null,
   "metadata": {},
   "outputs": [],
   "source": []
  },
  {
   "cell_type": "code",
   "execution_count": null,
   "metadata": {},
   "outputs": [],
   "source": []
  }
 ],
 "metadata": {
  "kernelspec": {
   "display_name": "Python 3",
   "language": "python",
   "name": "python3"
  },
  "language_info": {
   "codemirror_mode": {
    "name": "ipython",
    "version": 3
   },
   "file_extension": ".py",
   "mimetype": "text/x-python",
   "name": "python",
   "nbconvert_exporter": "python",
   "pygments_lexer": "ipython3",
   "version": "3.6.5"
  }
 },
 "nbformat": 4,
 "nbformat_minor": 2
}
