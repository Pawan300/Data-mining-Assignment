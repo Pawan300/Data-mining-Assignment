{
 "cells": [
  {
   "cell_type": "code",
   "execution_count": 765,
   "metadata": {},
   "outputs": [],
   "source": [
    "import numpy as np\n",
    "import pandas as pd\n",
    "import itertools\n",
    "from itertools import chain\n",
    "data=[[1,2,3,5],[1,5],[1,2],[1,2,3]]"
   ]
  },
  {
   "cell_type": "code",
   "execution_count": 766,
   "metadata": {},
   "outputs": [],
   "source": [
    "def count(i,data):\n",
    "    l=[]\n",
    "    for j in data:\n",
    "        for k in itertools.combinations(j,len(i)):\n",
    "            l.append(frozenset(k))\n",
    "    return(l.count(i))"
   ]
  },
  {
   "cell_type": "code",
   "execution_count": 767,
   "metadata": {},
   "outputs": [],
   "source": [
    "def combi(l,k):\n",
    "        if(k==2):\n",
    "            c=list(itertools.combinations(l,k))\n",
    "        else:\n",
    "            c=list(itertools.combinations(set(chain(*l.keys())),3))\n",
    "        c1=c[:]\n",
    "        for i in c1:\n",
    "            t=list(itertools.combinations(i,len(i)-1))\n",
    "            for j in t:\n",
    "                if(k==2):\n",
    "                    if(j[0] not in l.keys()):\n",
    "                        c.remove(i)\n",
    "                        break\n",
    "                else:\n",
    "                    if(j not in l.keys()):\n",
    "                        c.remove(i)\n",
    "                        break\n",
    "        return(c)"
   ]
  },
  {
   "cell_type": "code",
   "execution_count": 768,
   "metadata": {},
   "outputs": [],
   "source": [
    "def apriori(min_sup,data):\n",
    "    sol=[]\n",
    "    problem=set(chain(*data))\n",
    "    k=2\n",
    "    temp=0\n",
    "    c={}\n",
    "    for i in problem:\n",
    "        c[i]=count(frozenset({i}),data)/len(data)*100\n",
    "    while(problem):\n",
    "        l={}\n",
    "        if(temp!=0):\n",
    "            c={}\n",
    "            for i in problem:\n",
    "                c[i]=count(frozenset({*i}),data)/len(data)*100\n",
    "        c1=c.copy()\n",
    "        for i in c.keys():\n",
    "            if(c1[i]<min_sup):\n",
    "                del c1[i]\n",
    "        l=c1.copy()\n",
    "        problem=combi(l,k)\n",
    "        k=k+1\n",
    "        temp=1\n",
    "        sol.append(l.keys())\n",
    "    return(sol)"
   ]
  },
  {
   "cell_type": "code",
   "execution_count": 773,
   "metadata": {},
   "outputs": [],
   "source": [
    "sol=apriori(50,data)"
   ]
  },
  {
   "cell_type": "code",
   "execution_count": 774,
   "metadata": {},
   "outputs": [
    {
     "data": {
      "text/plain": [
       "[dict_keys([1, 2, 3, 5]),\n",
       " dict_keys([(1, 2), (1, 3), (1, 5), (2, 3)]),\n",
       " dict_keys([(1, 2, 3)])]"
      ]
     },
     "execution_count": 774,
     "metadata": {},
     "output_type": "execute_result"
    }
   ],
   "source": [
    "sol"
   ]
  },
  {
   "cell_type": "code",
   "execution_count": null,
   "metadata": {},
   "outputs": [],
   "source": []
  },
  {
   "cell_type": "code",
   "execution_count": null,
   "metadata": {},
   "outputs": [],
   "source": []
  }
 ],
 "metadata": {
  "kernelspec": {
   "display_name": "Python 3",
   "language": "python",
   "name": "python3"
  },
  "language_info": {
   "codemirror_mode": {
    "name": "ipython",
    "version": 3
   },
   "file_extension": ".py",
   "mimetype": "text/x-python",
   "name": "python",
   "nbconvert_exporter": "python",
   "pygments_lexer": "ipython3",
   "version": "3.7.3"
  }
 },
 "nbformat": 4,
 "nbformat_minor": 2
}
